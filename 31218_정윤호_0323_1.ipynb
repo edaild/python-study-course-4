{
 "cells": [
  {
   "cell_type": "markdown",
   "id": "09cb59dc",
   "metadata": {},
   "source": [
    "31218_정윤호_0323_1"
   ]
  },
  {
   "cell_type": "markdown",
   "id": "839e34fc",
   "metadata": {},
   "source": [
    "최저 주문금액이 있는 새벽배송\n",
    "\n",
    "- 최저 구매금액이 2 만 원\n",
    "- 5 만 원 미만은 배송비 2500원 추가\n",
    "- 5만 원 이상 이면 무료배송\n",
    "\n",
    "구매금액을 입력받아 조건 별로\n",
    "- '새벽배송이 불가합니다.'\n",
    "- '배송비 2500원이 추가됩니다.'\n",
    "- '무료배송됩니다.'\n",
    "증 하나를 출력하기"
   ]
  },
  {
   "cell_type": "code",
   "execution_count": 5,
   "id": "b6bc41b0",
   "metadata": {},
   "outputs": [
    {
     "name": "stdout",
     "output_type": "stream",
     "text": [
      "구매금액은?2555\n",
      "새벽배송이 불가합니다.\n"
     ]
    }
   ],
   "source": [
    "price = int(input('구매금액은?'))\n",
    "\n",
    "if price < 20000 :\n",
    "    print('새벽배송이 불가합니다.')\n",
    "elif price < 50000 :\n",
    "    print('배송비 2500원이 추가됩니다.')\n",
    "else :\n",
    "    print('무료배송 됩니다.')\n",
    "\n"
   ]
  },
  {
   "cell_type": "markdown",
   "id": "7592a0a0",
   "metadata": {},
   "source": [
    "#### 3. 반복문\n",
    "```\n",
    "for a in data :\n",
    "    명령어\n",
    "```\n",
    "a가 data에 있는동안 명령어를 반복 실행하세요."
   ]
  },
  {
   "cell_type": "code",
   "execution_count": 6,
   "id": "9f455739",
   "metadata": {},
   "outputs": [
    {
     "name": "stdout",
     "output_type": "stream",
     "text": [
      "안녕하세요\n",
      "안녕하세요\n",
      "안녕하세요\n",
      "안녕하세요\n",
      "안녕하세요\n"
     ]
    }
   ],
   "source": [
    "#에1\n",
    "for a in [1,2,3,4,5] :\n",
    "    print('안녕하세요')"
   ]
  },
  {
   "cell_type": "code",
   "execution_count": 7,
   "id": "c9669f18",
   "metadata": {},
   "outputs": [
    {
     "name": "stdout",
     "output_type": "stream",
     "text": [
      "1 안녕하세요!!\n",
      "2 안녕하세요!!\n",
      "3 안녕하세요!!\n",
      "4 안녕하세요!!\n",
      "5 안녕하세요!!\n"
     ]
    }
   ],
   "source": [
    "for a in [1,2,3,4,5] :\n",
    "    print(a, '안녕하세요!!')"
   ]
  },
  {
   "cell_type": "markdown",
   "id": "3a6a2e1c",
   "metadata": {},
   "source": [
    "#### 2. gange (시작숫자, 종류숫자)\n",
    "\n",
    "> 시작숫자 ~ 종류숫자<br>\n",
    "    1~10range(1,10) 종료숫자-1까지 포함한다."
   ]
  },
  {
   "cell_type": "code",
   "execution_count": 10,
   "id": "6551e696",
   "metadata": {
    "scrolled": true
   },
   "outputs": [
    {
     "name": "stdout",
     "output_type": "stream",
     "text": [
      "1 선생님 열심히 공부 하겠습니다.!\n",
      "2 선생님 열심히 공부 하겠습니다.!\n",
      "3 선생님 열심히 공부 하겠습니다.!\n",
      "4 선생님 열심히 공부 하겠습니다.!\n",
      "5 선생님 열심히 공부 하겠습니다.!\n",
      "6 선생님 열심히 공부 하겠습니다.!\n",
      "7 선생님 열심히 공부 하겠습니다.!\n",
      "8 선생님 열심히 공부 하겠습니다.!\n",
      "9 선생님 열심히 공부 하겠습니다.!\n",
      "10 선생님 열심히 공부 하겠습니다.!\n"
     ]
    }
   ],
   "source": [
    "#예2\n",
    "\n",
    "for a in range(1,11) :\n",
    "    print(a, '선생님 열심히 공부 하겠습니다.!')"
   ]
  },
  {
   "cell_type": "code",
   "execution_count": 13,
   "id": "abdb76a8",
   "metadata": {
    "scrolled": true
   },
   "outputs": [
    {
     "name": "stdout",
     "output_type": "stream",
     "text": [
      "0 선생님 열심히 공부 하겠습니다.!\n",
      "1 선생님 열심히 공부 하겠습니다.!\n",
      "2 선생님 열심히 공부 하겠습니다.!\n",
      "3 선생님 열심히 공부 하겠습니다.!\n",
      "4 선생님 열심히 공부 하겠습니다.!\n",
      "5 선생님 열심히 공부 하겠습니다.!\n",
      "6 선생님 열심히 공부 하겠습니다.!\n",
      "7 선생님 열심히 공부 하겠습니다.!\n",
      "8 선생님 열심히 공부 하겠습니다.!\n",
      "9 선생님 열심히 공부 하겠습니다.!\n"
     ]
    }
   ],
   "source": [
    "# 10개를 출력하는데 index는 0부터 시작이다.\n",
    "for a in range(10):\n",
    "    print(a, '선생님 열심히 공부 하겠습니다.!')"
   ]
  },
  {
   "cell_type": "markdown",
   "id": "d32d1904",
   "metadata": {},
   "source": [
    "### 3.for i in data:\n",
    "일반적ㅡ로 반복문에서 i라는 변수를 사용합니다."
   ]
  },
  {
   "cell_type": "markdown",
   "id": "d41389df",
   "metadata": {},
   "source": [
    "#### 문제1\n",
    "> 1부터 59까지의 숫자의 합을 구해보자.ex)1+2+...49+50"
   ]
  },
  {
   "cell_type": "code",
   "execution_count": 16,
   "id": "f277f9e1",
   "metadata": {},
   "outputs": [
    {
     "name": "stdout",
     "output_type": "stream",
     "text": [
      "1275\n"
     ]
    }
   ],
   "source": [
    "result = 0\n",
    "\n",
    "for i in range(1,51) :\n",
    "    result += i\n",
    "print(result)"
   ]
  },
  {
   "cell_type": "markdown",
   "id": "f9a5dbb3",
   "metadata": {},
   "source": [
    "### 문제2\n",
    "숫자 하나를 입력받고, 1부터 입력받은 수자까지의 곱을 구해보세요.\n",
    "5를 입력받은경우, 1x2x3x4x5 결과 출력하기"
   ]
  },
  {
   "cell_type": "code",
   "execution_count": 23,
   "id": "e6cd4f2a",
   "metadata": {},
   "outputs": [
    {
     "name": "stdout",
     "output_type": "stream",
     "text": [
      "숫자 입력5\n",
      "120\n"
     ]
    }
   ],
   "source": [
    "num = int(input('숫자 입력'))\n",
    "result = 1\n",
    "for i in range(1, num+1) :\n",
    "    result *= i\n",
    "print(result)"
   ]
  },
  {
   "cell_type": "code",
   "execution_count": null,
   "id": "8f07bfdc",
   "metadata": {},
   "outputs": [],
   "source": []
  }
 ],
 "metadata": {
  "kernelspec": {
   "display_name": "Python 3 (ipykernel)",
   "language": "python",
   "name": "python3"
  },
  "language_info": {
   "codemirror_mode": {
    "name": "ipython",
    "version": 3
   },
   "file_extension": ".py",
   "mimetype": "text/x-python",
   "name": "python",
   "nbconvert_exporter": "python",
   "pygments_lexer": "ipython3",
   "version": "3.9.7"
  }
 },
 "nbformat": 4,
 "nbformat_minor": 5
}
